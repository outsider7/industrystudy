{
 "cells": [
  {
   "cell_type": "markdown",
   "id": "a9fa074e-1105-4589-8c23-3e54e72990a1",
   "metadata": {},
   "source": [
    "# E-hail  Business Analysis\n",
    "\n",
    "- Contact:xup365@gmail.com\n",
    "- data main page:https://www1.nyc.gov/site/tlc/about/tlc-trip-record-data.page"
   ]
  },
  {
   "cell_type": "markdown",
   "id": "32076b89-9ecf-4c2d-ad14-63e89e82202f",
   "metadata": {},
   "source": [
    "### Install Neccessary Package"
   ]
  },
  {
   "cell_type": "code",
   "execution_count": 6,
   "id": "b4b76261-dbfb-48cd-8240-054fc648b78f",
   "metadata": {},
   "outputs": [
    {
     "name": "stdout",
     "output_type": "stream",
     "text": [
      "Collecting boto3\n",
      "  Downloading boto3-1.24.21-py3-none-any.whl (132 kB)\n",
      "     ------------------------------------ 132.5/132.5 kB 560.9 kB/s eta 0:00:00\n",
      "Collecting botocore<1.28.0,>=1.27.21\n",
      "  Downloading botocore-1.27.21-py3-none-any.whl (8.9 MB)\n",
      "     ---------------------------------------- 8.9/8.9 MB 3.4 MB/s eta 0:00:00\n",
      "Collecting jmespath<2.0.0,>=0.7.1\n",
      "  Downloading jmespath-1.0.1-py3-none-any.whl (20 kB)\n",
      "Collecting s3transfer<0.7.0,>=0.6.0\n",
      "  Downloading s3transfer-0.6.0-py3-none-any.whl (79 kB)\n",
      "     ---------------------------------------- 79.6/79.6 kB 4.3 MB/s eta 0:00:00\n",
      "Requirement already satisfied: urllib3<1.27,>=1.25.4 in c:\\users\\ixupe\\appdata\\local\\programs\\python\\python310\\lib\\site-packages (from botocore<1.28.0,>=1.27.21->boto3) (1.26.9)\n",
      "Requirement already satisfied: python-dateutil<3.0.0,>=2.1 in c:\\users\\ixupe\\appdata\\local\\programs\\python\\python310\\lib\\site-packages (from botocore<1.28.0,>=1.27.21->boto3) (2.8.2)\n",
      "Requirement already satisfied: six>=1.5 in c:\\users\\ixupe\\appdata\\local\\programs\\python\\python310\\lib\\site-packages (from python-dateutil<3.0.0,>=2.1->botocore<1.28.0,>=1.27.21->boto3) (1.16.0)\n",
      "Installing collected packages: jmespath, botocore, s3transfer, boto3\n",
      "Successfully installed boto3-1.24.21 botocore-1.27.21 jmespath-1.0.1 s3transfer-0.6.0\n",
      "Note: you may need to restart the kernel to use updated packages.\n"
     ]
    }
   ],
   "source": [
    "pip install boto3"
   ]
  },
  {
   "cell_type": "markdown",
   "id": "125e1bb4-776b-4a50-9819-0ac33bb01cc7",
   "metadata": {},
   "source": [
    "## import and configuration"
   ]
  },
  {
   "cell_type": "code",
   "execution_count": 2,
   "id": "378bf737-2e04-4a5b-bb2f-6848cf3b08d1",
   "metadata": {},
   "outputs": [],
   "source": [
    "import os\n",
    "import pandas as pd\n",
    "import matplotlib.pyplot as plt\n",
    "from datetime import datetime\n",
    "import pandas as pd\n",
    "import numpy as np\n",
    "import copy\n",
    "import ast\n",
    "import json\n",
    "import boto3\n"
   ]
  },
  {
   "cell_type": "code",
   "execution_count": 6,
   "id": "205783c6-05ba-4273-9132-4c74f0b60cce",
   "metadata": {},
   "outputs": [],
   "source": [
    "#data_path= \"C:\\\\cloud\\\\internetHailingAnalysis\\\\data\\\\parquet\\\\\"\n",
    "data_path= \"C:\\cloud\\industrystudy\\data\\parquet\"\n",
    "script_path=\"C:\\cloud\\industrystudy\\script\"\n",
    "result_path = \"C:\\cloud\\industrystudy\\result\""
   ]
  },
  {
   "cell_type": "markdown",
   "id": "4d88a02f-2f67-4162-9a0d-588ab6e1353f",
   "metadata": {},
   "source": [
    "## Download analysis data from AWS S3 bucket"
   ]
  },
  {
   "cell_type": "code",
   "execution_count": 37,
   "id": "da095e45-dd1a-4f5d-a057-631ef32eb35f",
   "metadata": {},
   "outputs": [],
   "source": [
    "#''' precondition: setup AWS credential for int and dev account in your local refer https://docs.aws.amazon.com/cli/latest/userguide/cli-configure-files.html\n",
    "myBucket = \"nyc-tlc\"\n",
    "targetfile=\"fhv_tripdata_2022-03.parquet\" #input your interest file\n",
    "key = \"trip data/\"+targetfile\n",
    "\n",
    "session = boto3.session.Session()\n",
    "s3 = session.resource(\"s3\")\n",
    "if not os.path.exists(os.path.join( data_path,targetfile)):\n",
    "    s3.Bucket(myBucket).download_file(key,os.path.join( data_path,'fhv_tripdata_2022-03.parquet'))"
   ]
  },
  {
   "cell_type": "code",
   "execution_count": 38,
   "id": "dc50cd3d-c3c8-45f8-a6bc-2d7101d9a4cd",
   "metadata": {},
   "outputs": [
    {
     "data": {
      "text/plain": [
       "False"
      ]
     },
     "execution_count": 38,
     "metadata": {},
     "output_type": "execute_result"
    }
   ],
   "source": [
    "not os.path.exists(os.path.join( data_path,targetfile))"
   ]
  },
  {
   "cell_type": "code",
   "execution_count": 48,
   "id": "5931eef6-844c-4e52-b1ac-7dd902feffde",
   "metadata": {},
   "outputs": [],
   "source": [
    "df_fhv = pd.read_parquet(os.path.join( data_path,'fhv_tripdata_2022-03.parquet'),engine='pyarrow')\n",
    "df_green= pd.read_parquet(os.path.join( data_path,'green_tripdata_2022-03.parquet'),engine='pyarrow')\n",
    "df_yellow= pd.read_parquet(os.path.join( data_path,'yellow_tripdata_2022-03.parquet'),engine='pyarrow')\n",
    "df_fhvhv= pd.read_parquet(os.path.join( data_path,'fhvhv_tripdata_2022-03.parquet'),engine='pyarrow')"
   ]
  },
  {
   "cell_type": "markdown",
   "id": "5c422a69-ddfb-446f-8e1e-a044a7d1d121",
   "metadata": {},
   "source": [
    "## Check Schema and understand data\n",
    "- FHV = For-hire Vehicle,\n",
    "- FHVHV = For-hire Vehicle High Volume,Uber-like\n",
    "- Green = Green Taxi , restricted area\n",
    "- Yellow = Yellow Taxi,  all area"
   ]
  },
  {
   "cell_type": "code",
   "execution_count": 34,
   "id": "3dd30aca-43e6-4f45-b766-819eff5d8301",
   "metadata": {},
   "outputs": [
    {
     "data": {
      "text/html": [
       "<div>\n",
       "<style scoped>\n",
       "    .dataframe tbody tr th:only-of-type {\n",
       "        vertical-align: middle;\n",
       "    }\n",
       "\n",
       "    .dataframe tbody tr th {\n",
       "        vertical-align: top;\n",
       "    }\n",
       "\n",
       "    .dataframe thead th {\n",
       "        text-align: right;\n",
       "    }\n",
       "</style>\n",
       "<table border=\"1\" class=\"dataframe\">\n",
       "  <thead>\n",
       "    <tr style=\"text-align: right;\">\n",
       "      <th></th>\n",
       "      <th>dispatching_base_num</th>\n",
       "      <th>pickup_datetime</th>\n",
       "      <th>dropOff_datetime</th>\n",
       "      <th>PUlocationID</th>\n",
       "      <th>DOlocationID</th>\n",
       "      <th>SR_Flag</th>\n",
       "      <th>Affiliated_base_number</th>\n",
       "    </tr>\n",
       "  </thead>\n",
       "  <tbody>\n",
       "    <tr>\n",
       "      <th>0</th>\n",
       "      <td>B00014</td>\n",
       "      <td>2022-03-01 00:01:00</td>\n",
       "      <td>2022-03-01 01:10:00</td>\n",
       "      <td>NaN</td>\n",
       "      <td>NaN</td>\n",
       "      <td>None</td>\n",
       "      <td>B00013</td>\n",
       "    </tr>\n",
       "  </tbody>\n",
       "</table>\n",
       "</div>"
      ],
      "text/plain": [
       "  dispatching_base_num     pickup_datetime    dropOff_datetime  PUlocationID  \\\n",
       "0               B00014 2022-03-01 00:01:00 2022-03-01 01:10:00           NaN   \n",
       "\n",
       "   DOlocationID SR_Flag Affiliated_base_number  \n",
       "0           NaN    None                 B00013  "
      ]
     },
     "execution_count": 34,
     "metadata": {},
     "output_type": "execute_result"
    }
   ],
   "source": [
    "df_fhv.head(1)"
   ]
  },
  {
   "cell_type": "code",
   "execution_count": 49,
   "id": "849a52c1-94ff-4b23-929a-4d3641fe7555",
   "metadata": {},
   "outputs": [
    {
     "data": {
      "text/html": [
       "<div>\n",
       "<style scoped>\n",
       "    .dataframe tbody tr th:only-of-type {\n",
       "        vertical-align: middle;\n",
       "    }\n",
       "\n",
       "    .dataframe tbody tr th {\n",
       "        vertical-align: top;\n",
       "    }\n",
       "\n",
       "    .dataframe thead th {\n",
       "        text-align: right;\n",
       "    }\n",
       "</style>\n",
       "<table border=\"1\" class=\"dataframe\">\n",
       "  <thead>\n",
       "    <tr style=\"text-align: right;\">\n",
       "      <th></th>\n",
       "      <th>hvfhs_license_num</th>\n",
       "      <th>dispatching_base_num</th>\n",
       "      <th>originating_base_num</th>\n",
       "      <th>request_datetime</th>\n",
       "      <th>on_scene_datetime</th>\n",
       "      <th>pickup_datetime</th>\n",
       "      <th>dropoff_datetime</th>\n",
       "      <th>PULocationID</th>\n",
       "      <th>DOLocationID</th>\n",
       "      <th>trip_miles</th>\n",
       "      <th>...</th>\n",
       "      <th>sales_tax</th>\n",
       "      <th>congestion_surcharge</th>\n",
       "      <th>airport_fee</th>\n",
       "      <th>tips</th>\n",
       "      <th>driver_pay</th>\n",
       "      <th>shared_request_flag</th>\n",
       "      <th>shared_match_flag</th>\n",
       "      <th>access_a_ride_flag</th>\n",
       "      <th>wav_request_flag</th>\n",
       "      <th>wav_match_flag</th>\n",
       "    </tr>\n",
       "  </thead>\n",
       "  <tbody>\n",
       "    <tr>\n",
       "      <th>0</th>\n",
       "      <td>HV0003</td>\n",
       "      <td>B03404</td>\n",
       "      <td>B03404</td>\n",
       "      <td>2022-03-01 00:31:18</td>\n",
       "      <td>2022-03-01 00:34:32</td>\n",
       "      <td>2022-03-01 00:35:04</td>\n",
       "      <td>2022-03-01 00:43:48</td>\n",
       "      <td>177</td>\n",
       "      <td>61</td>\n",
       "      <td>1.72</td>\n",
       "      <td>...</td>\n",
       "      <td>0.73</td>\n",
       "      <td>0.0</td>\n",
       "      <td>0.0</td>\n",
       "      <td>3.0</td>\n",
       "      <td>6.62</td>\n",
       "      <td>N</td>\n",
       "      <td>N</td>\n",
       "      <td></td>\n",
       "      <td>N</td>\n",
       "      <td>N</td>\n",
       "    </tr>\n",
       "  </tbody>\n",
       "</table>\n",
       "<p>1 rows × 24 columns</p>\n",
       "</div>"
      ],
      "text/plain": [
       "  hvfhs_license_num dispatching_base_num originating_base_num  \\\n",
       "0            HV0003               B03404               B03404   \n",
       "\n",
       "     request_datetime   on_scene_datetime     pickup_datetime  \\\n",
       "0 2022-03-01 00:31:18 2022-03-01 00:34:32 2022-03-01 00:35:04   \n",
       "\n",
       "     dropoff_datetime  PULocationID  DOLocationID  trip_miles  ...  sales_tax  \\\n",
       "0 2022-03-01 00:43:48           177            61        1.72  ...       0.73   \n",
       "\n",
       "   congestion_surcharge  airport_fee  tips  driver_pay  shared_request_flag  \\\n",
       "0                   0.0          0.0   3.0        6.62                    N   \n",
       "\n",
       "   shared_match_flag  access_a_ride_flag  wav_request_flag wav_match_flag  \n",
       "0                  N                                     N              N  \n",
       "\n",
       "[1 rows x 24 columns]"
      ]
     },
     "execution_count": 49,
     "metadata": {},
     "output_type": "execute_result"
    }
   ],
   "source": [
    "df_fhvhv.head(1)"
   ]
  },
  {
   "cell_type": "code",
   "execution_count": 35,
   "id": "ac0cb37d-9378-4460-8189-b11b28d698a8",
   "metadata": {},
   "outputs": [
    {
     "data": {
      "text/html": [
       "<div>\n",
       "<style scoped>\n",
       "    .dataframe tbody tr th:only-of-type {\n",
       "        vertical-align: middle;\n",
       "    }\n",
       "\n",
       "    .dataframe tbody tr th {\n",
       "        vertical-align: top;\n",
       "    }\n",
       "\n",
       "    .dataframe thead th {\n",
       "        text-align: right;\n",
       "    }\n",
       "</style>\n",
       "<table border=\"1\" class=\"dataframe\">\n",
       "  <thead>\n",
       "    <tr style=\"text-align: right;\">\n",
       "      <th></th>\n",
       "      <th>VendorID</th>\n",
       "      <th>lpep_pickup_datetime</th>\n",
       "      <th>lpep_dropoff_datetime</th>\n",
       "      <th>store_and_fwd_flag</th>\n",
       "      <th>RatecodeID</th>\n",
       "      <th>PULocationID</th>\n",
       "      <th>DOLocationID</th>\n",
       "      <th>passenger_count</th>\n",
       "      <th>trip_distance</th>\n",
       "      <th>fare_amount</th>\n",
       "      <th>extra</th>\n",
       "      <th>mta_tax</th>\n",
       "      <th>tip_amount</th>\n",
       "      <th>tolls_amount</th>\n",
       "      <th>ehail_fee</th>\n",
       "      <th>improvement_surcharge</th>\n",
       "      <th>total_amount</th>\n",
       "      <th>payment_type</th>\n",
       "      <th>trip_type</th>\n",
       "      <th>congestion_surcharge</th>\n",
       "    </tr>\n",
       "  </thead>\n",
       "  <tbody>\n",
       "    <tr>\n",
       "      <th>0</th>\n",
       "      <td>1</td>\n",
       "      <td>2022-03-01 00:24:14</td>\n",
       "      <td>2022-03-01 00:34:04</td>\n",
       "      <td>N</td>\n",
       "      <td>1.0</td>\n",
       "      <td>74</td>\n",
       "      <td>151</td>\n",
       "      <td>1.0</td>\n",
       "      <td>2.3</td>\n",
       "      <td>9.5</td>\n",
       "      <td>0.5</td>\n",
       "      <td>0.5</td>\n",
       "      <td>0.0</td>\n",
       "      <td>0.0</td>\n",
       "      <td>None</td>\n",
       "      <td>0.3</td>\n",
       "      <td>10.8</td>\n",
       "      <td>2.0</td>\n",
       "      <td>1.0</td>\n",
       "      <td>0.0</td>\n",
       "    </tr>\n",
       "  </tbody>\n",
       "</table>\n",
       "</div>"
      ],
      "text/plain": [
       "   VendorID lpep_pickup_datetime lpep_dropoff_datetime store_and_fwd_flag  \\\n",
       "0         1  2022-03-01 00:24:14   2022-03-01 00:34:04                  N   \n",
       "\n",
       "   RatecodeID  PULocationID  DOLocationID  passenger_count  trip_distance  \\\n",
       "0         1.0            74           151              1.0            2.3   \n",
       "\n",
       "   fare_amount  extra  mta_tax  tip_amount  tolls_amount ehail_fee  \\\n",
       "0          9.5    0.5      0.5         0.0           0.0      None   \n",
       "\n",
       "   improvement_surcharge  total_amount  payment_type  trip_type  \\\n",
       "0                    0.3          10.8           2.0        1.0   \n",
       "\n",
       "   congestion_surcharge  \n",
       "0                   0.0  "
      ]
     },
     "execution_count": 35,
     "metadata": {},
     "output_type": "execute_result"
    }
   ],
   "source": [
    "df_green.head(1)"
   ]
  },
  {
   "cell_type": "code",
   "execution_count": 36,
   "id": "940b1879-2cda-4c58-8ec7-1062e6c4a254",
   "metadata": {},
   "outputs": [
    {
     "data": {
      "text/html": [
       "<div>\n",
       "<style scoped>\n",
       "    .dataframe tbody tr th:only-of-type {\n",
       "        vertical-align: middle;\n",
       "    }\n",
       "\n",
       "    .dataframe tbody tr th {\n",
       "        vertical-align: top;\n",
       "    }\n",
       "\n",
       "    .dataframe thead th {\n",
       "        text-align: right;\n",
       "    }\n",
       "</style>\n",
       "<table border=\"1\" class=\"dataframe\">\n",
       "  <thead>\n",
       "    <tr style=\"text-align: right;\">\n",
       "      <th></th>\n",
       "      <th>VendorID</th>\n",
       "      <th>tpep_pickup_datetime</th>\n",
       "      <th>tpep_dropoff_datetime</th>\n",
       "      <th>passenger_count</th>\n",
       "      <th>trip_distance</th>\n",
       "      <th>RatecodeID</th>\n",
       "      <th>store_and_fwd_flag</th>\n",
       "      <th>PULocationID</th>\n",
       "      <th>DOLocationID</th>\n",
       "      <th>payment_type</th>\n",
       "      <th>fare_amount</th>\n",
       "      <th>extra</th>\n",
       "      <th>mta_tax</th>\n",
       "      <th>tip_amount</th>\n",
       "      <th>tolls_amount</th>\n",
       "      <th>improvement_surcharge</th>\n",
       "      <th>total_amount</th>\n",
       "      <th>congestion_surcharge</th>\n",
       "      <th>airport_fee</th>\n",
       "    </tr>\n",
       "  </thead>\n",
       "  <tbody>\n",
       "    <tr>\n",
       "      <th>0</th>\n",
       "      <td>1</td>\n",
       "      <td>2022-03-01 00:13:08</td>\n",
       "      <td>2022-03-01 00:24:35</td>\n",
       "      <td>1.0</td>\n",
       "      <td>2.4</td>\n",
       "      <td>1.0</td>\n",
       "      <td>N</td>\n",
       "      <td>90</td>\n",
       "      <td>209</td>\n",
       "      <td>2</td>\n",
       "      <td>10.0</td>\n",
       "      <td>3.0</td>\n",
       "      <td>0.5</td>\n",
       "      <td>0.0</td>\n",
       "      <td>0.0</td>\n",
       "      <td>0.3</td>\n",
       "      <td>13.8</td>\n",
       "      <td>2.5</td>\n",
       "      <td>0.0</td>\n",
       "    </tr>\n",
       "  </tbody>\n",
       "</table>\n",
       "</div>"
      ],
      "text/plain": [
       "   VendorID tpep_pickup_datetime tpep_dropoff_datetime  passenger_count  \\\n",
       "0         1  2022-03-01 00:13:08   2022-03-01 00:24:35              1.0   \n",
       "\n",
       "   trip_distance  RatecodeID store_and_fwd_flag  PULocationID  DOLocationID  \\\n",
       "0            2.4         1.0                  N            90           209   \n",
       "\n",
       "   payment_type  fare_amount  extra  mta_tax  tip_amount  tolls_amount  \\\n",
       "0             2         10.0    3.0      0.5         0.0           0.0   \n",
       "\n",
       "   improvement_surcharge  total_amount  congestion_surcharge  airport_fee  \n",
       "0                    0.3          13.8                   2.5          0.0  "
      ]
     },
     "execution_count": 36,
     "metadata": {},
     "output_type": "execute_result"
    }
   ],
   "source": [
    "df_yellow.head(1)"
   ]
  },
  {
   "cell_type": "markdown",
   "id": "3a505bbe-4f4b-408b-bd79-f182f7f2f892",
   "metadata": {},
   "source": [
    "### Trip Distance Analysis\n",
    "filter out implausible value >3000 miles"
   ]
  },
  {
   "cell_type": "code",
   "execution_count": 245,
   "id": "09f26b4f-4185-4a86-a5f3-33d93a5fc256",
   "metadata": {},
   "outputs": [
    {
     "data": {
      "image/png": "[encoded data removed]",
      "text/plain": [
       "<Figure size 432x288 with 1 Axes>"
      ]
     },
     "metadata": {
      "needs_background": "light"
     },
     "output_type": "display_data"
    }
   ],
   "source": [
    "df_green_new=df_green[df_green['trip_distance']<3000]\n",
    "avg_mile_green= df_green_new['trip_distance'].mean()\n",
    "df_yellow_new=df_yellow[df_yellow['trip_distance']<3000]\n",
    "avg_mile_yellow= df_yellow_new['trip_distance'].mean()\n",
    "df_fhvhv_new=df_fhvhv[df_fhvhv['trip_miles']<3000]\n",
    "avg_mile_fhvhv= df_fhvhv_new['trip_miles'].mean()\n",
    "\n",
    "#driving bar chart\n",
    "ind = np.arange(3) \n",
    "fig, ax = plt.subplots()\n",
    "\n",
    "data = [round(avg_mile_fhvhv,2), round(avg_mile_yellow,2), round(avg_mile_green,2)]\n",
    "xlabels =['FHVHV','Yellow Taxi','Green Taxi']\n",
    "p1 = ax.bar(ind, data, 0.5, label=xlabels)        \n",
    "p1[0].set_color('green')\n",
    "p1[1].set_color('blue')\n",
    "p1[2].set_color('orange')\n",
    "plt.title(\"Average Trip Bistance Chart\")\n",
    "plt.ylabel(\"Miles\")\n",
    "#plt.bar(range(len(data)), data,color=['r', 'g', 'b'],tick_label=labels)\n",
    "ax.set_xticks(ind, labels=xlabels)\n",
    "ax.bar_label(p1, label_type='edge')\n",
    "plt.show()"
   ]
  },
  {
   "cell_type": "markdown",
   "id": "5ed14938-23c6-423c-beb8-e6552be072c0",
   "metadata": {},
   "source": [
    "### Company Share Analysis\n",
    "- HV0002: Juno\n",
    "- HV0003: Uber\n",
    "- HV0004: Via\n",
    "- HV0005: Lyft"
   ]
  },
  {
   "cell_type": "code",
   "execution_count": 174,
   "id": "212e78dd-3530-4aaa-b261-c0090e5e4b74",
   "metadata": {},
   "outputs": [
    {
     "data": {
      "image/png": "[encoded data removed]",
      "text/plain": [
       "<Figure size 288x288 with 1 Axes>"
      ]
     },
     "metadata": {},
     "output_type": "display_data"
    }
   ],
   "source": [
    "Juno_num = len(df_fhvhv[df_fhvhv['hvfhs_license_num']=='HV0002'])\n",
    "Uber_num = len(df_fhvhv[df_fhvhv['hvfhs_license_num']=='HV0003'])\n",
    "Via_num = len(df_fhvhv[df_fhvhv['hvfhs_license_num']=='HV0004'])\n",
    "Lyft_num = len(df_fhvhv[df_fhvhv['hvfhs_license_num']=='HV0005'])\n",
    "share_number=[Juno_num,Uber_num,Via_num,Lyft_num]\n",
    "labels = ['Juno', 'Uber', 'Via','Lyft']\n",
    "plt.figure(figsize=(4,4));\n",
    "plt.title(\"For-hire Service License Number Distribution by Company\")\n",
    "plt.pie(share_number,labels=labels,autopct='%1.1f%%')\n",
    "plt.legend(bbox_to_anchor=(1.3, 0.95),loc='upper right', borderaxespad=0)\n",
    "plt.show()"
   ]
  },
  {
   "cell_type": "markdown",
   "id": "297921dc-997b-4943-8b5a-1396ae8c2166",
   "metadata": {},
   "source": [
    "### Fee Analysis"
   ]
  },
  {
   "cell_type": "code",
   "execution_count": 262,
   "id": "6c4cf31b-7ab9-4013-8c2a-cbca99c1f59f",
   "metadata": {},
   "outputs": [
    {
     "name": "stdout",
     "output_type": "stream",
     "text": [
      "18.27951895285025\n",
      "20.593640035701267\n",
      "18.076819630024563\n"
     ]
    },
    {
     "data": {
      "image/png": "[encoded data removed]",
      "text/plain": [
       "<Figure size 432x288 with 1 Axes>"
      ]
     },
     "metadata": {
      "needs_background": "light"
     },
     "output_type": "display_data"
    }
   ],
   "source": [
    "avg_fee_green = df_green['total_amount'].mean()\n",
    "print(avg_fee_green)\n",
    "avg_fee_yellow = df_yellow['total_amount'].mean()\n",
    "print(avg_fee_yellow)\n",
    "avg_fee_fhvhv = df_fhvhv['driver_pay'].mean()\n",
    "print(avg_fee_fhvhv)\n",
    "\n",
    "fee_list = {\n",
    "          \n",
    "          'Vehicle Type':['Average Fee per Trip','Unit Price per Mile'], \n",
    "         'Green Taxi':[avg_fee_green,avg_fee_green/avg_mile_green],\n",
    "         'Yellow Taxi':[avg_fee_yellow,avg_fee_green/avg_mile_yellow],\n",
    "          'For-hire Vehicle':[avg_fee_fhvhv,avg_fee_fhvhv/avg_mile_df_fhvhv]\n",
    "\n",
    "           }\n",
    "dfList=pd.DataFrame(fee_list)\n",
    "dfList\n",
    "fee_list =[avg_fee_fhvhv,avg_fee_yellow,avg_fee_green]\n",
    "fee_list_single=[avg_fee_fhvhv/avg_mile_fhvhv,avg_fee_yellow/avg_mile_yellow,avg_fee_green/avg_mile_green]\n",
    "\n",
    "fig, ax = plt.subplots()\n",
    "b1 = ax.bar(ind, fee_list, 0.5, label='Price per trip')        \n",
    "b2 = ax.bar(ind, fee_list_single, 0.5, label='Price per mile') \n",
    "ax.set_xticks(ind, labels=xlabels)\n",
    "ax.bar_label(b1, label_type='center')\n",
    "ax.bar_label(b2, label_type='center')\n",
    "plt.title(\"Average Fee Analysis Chart\")\n",
    "plt.ylabel(\"Dollar\")\n",
    "plt.legend(bbox_to_anchor=(1.32, 1),loc='upper right', borderaxespad=0)\n",
    "plt.show()"
   ]
  },
  {
   "cell_type": "markdown",
   "id": "6e2af427-37bc-4dbd-a085-801713eaf0ae",
   "metadata": {},
   "source": [
    "### Trip Time in sec"
   ]
  },
  {
   "cell_type": "code",
   "execution_count": 241,
   "id": "c8cfbc28-fa2b-447c-81fa-21d703f88584",
   "metadata": {},
   "outputs": [
    {
     "name": "stdout",
     "output_type": "stream",
     "text": [
      "0.016666666666666666\n",
      "831.25\n",
      "18.885111633636345\n"
     ]
    },
    {
     "data": {
      "text/plain": [
       "<AxesSubplot:title={'center':'Trip Time Distribution in Minutes'}, xlabel='minute'>"
      ]
     },
     "execution_count": 241,
     "metadata": {},
     "output_type": "execute_result"
    },
    {
     "data": {
      "image/png": "[encoded data removed]",
      "text/plain": [
       "<Figure size 432x288 with 1 Axes>"
      ]
     },
     "metadata": {
      "needs_background": "light"
     },
     "output_type": "display_data"
    }
   ],
   "source": [
    "max_time_fhvhv = df_fhvhv['trip_time'].max()\n",
    "min_time_fhvhv = df_fhvhv['trip_time'].min()\n",
    "avg_time_fhvhv = df_fhvhv['trip_time'].mean()\n",
    "print(min_time_fhvhv/60)\n",
    "print(max_time_fhvhv/60)\n",
    "print(avg_time_fhvhv/60)\n",
    "df_fhvhv_filter= df_fhvhv[df_fhvhv['trip_time']<5000].dropna()\n",
    "df_fhvhv_filter = df_fhvhv_filter['trip_time'].apply(lambda x:x/60)\n",
    "plt.title('Trip Time Distribution in Minutes')\n",
    "plt.xlabel(\"minute\")\n",
    "\n",
    "df_fhvhv_filter.hist(bins =0)"
   ]
  },
  {
   "cell_type": "markdown",
   "id": "af631425-87e0-45af-84e6-fc0a3bf111c0",
   "metadata": {},
   "source": [
    "### Heat PU/DO Location"
   ]
  },
  {
   "cell_type": "code",
   "execution_count": 202,
   "id": "396d9325-62bd-4cd1-8b73-4882aa91b778",
   "metadata": {},
   "outputs": [
    {
     "data": {
      "text/plain": [
       "<AxesSubplot:>"
      ]
     },
     "execution_count": 202,
     "metadata": {},
     "output_type": "execute_result"
    },
    {
     "data": {
      "image/png": "[encoded data removed]",
      "text/plain": [
       "<Figure size 432x288 with 1 Axes>"
      ]
     },
     "metadata": {
      "needs_background": "light"
     },
     "output_type": "display_data"
    }
   ],
   "source": [
    "df_fhv['PUlocationID'].hist(legend=True,bins =265)\n",
    "df_yellow['PULocationID'].hist(legend=True,bins =265)\n",
    "df_green['PULocationID'].hist(legend=True,bins =265)\n",
    "df_fhv['DOlocationID'].hist(legend=True,bins =265)\n",
    "df_yellow['DOLocationID'].hist(legend=True,bins =265)\n",
    "df_green['DOLocationID'].hist(legend=True,bins =265)"
   ]
  },
  {
   "cell_type": "code",
   "execution_count": 215,
   "id": "c741f435-19b5-42e8-ad8a-9dad7e28b221",
   "metadata": {},
   "outputs": [
    {
     "data": {
      "text/plain": [
       "1.3890292153884198"
      ]
     },
     "execution_count": 215,
     "metadata": {},
     "output_type": "execute_result"
    }
   ],
   "source": [
    "df_yellow['passenger_count'].mean()"
   ]
  },
  {
   "cell_type": "code",
   "execution_count": 214,
   "id": "3801504b-651d-461e-882f-981242ded428",
   "metadata": {},
   "outputs": [
    {
     "data": {
      "text/plain": [
       "array(['N'], dtype=object)"
      ]
     },
     "execution_count": 214,
     "metadata": {},
     "output_type": "execute_result"
    }
   ],
   "source": [
    "df_fhvhv['shared_request_flag'].unique()\n"
   ]
  },
  {
   "cell_type": "code",
   "execution_count": 213,
   "id": "e3a5d4e7-569e-455e-ad3c-5c8cd85fcdef",
   "metadata": {},
   "outputs": [
    {
     "data": {
      "text/plain": [
       "array(['N', 'Y'], dtype=object)"
      ]
     },
     "execution_count": 213,
     "metadata": {},
     "output_type": "execute_result"
    }
   ],
   "source": [
    "df_fhvhv['shared_match_flag'].unique()"
   ]
  },
  {
   "cell_type": "markdown",
   "id": "a08ecfc7-6ecf-4109-b673-2995ef0c5e1c",
   "metadata": {},
   "source": [
    "## Todo\n",
    "- More data"
   ]
  },
  {
   "cell_type": "code",
   "execution_count": null,
   "id": "87076b4d-552e-4c93-9e90-b0edcf60dc73",
   "metadata": {},
   "outputs": [],
   "source": []
  }
 ],
 "metadata": {
  "kernelspec": {
   "display_name": "Python 3 (ipykernel)",
   "language": "python",
   "name": "python3"
  },
  "language_info": {
   "codemirror_mode": {
    "name": "ipython",
    "version": 3
   },
   "file_extension": ".py",
   "mimetype": "text/x-python",
   "name": "python",
   "nbconvert_exporter": "python",
   "pygments_lexer": "ipython3",
   "version": "3.10.5"
  }
 },
 "nbformat": 4,
 "nbformat_minor": 5
}
